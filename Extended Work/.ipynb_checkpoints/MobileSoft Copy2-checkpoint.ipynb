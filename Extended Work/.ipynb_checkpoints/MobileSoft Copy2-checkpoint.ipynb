{
 "cells": [
  {
   "cell_type": "code",
   "execution_count": 1,
   "metadata": {},
   "outputs": [],
   "source": [
    "import glob\n",
    "import re"
   ]
  },
  {
   "cell_type": "code",
   "execution_count": 3,
   "metadata": {},
   "outputs": [
    {
     "data": {
      "text/plain": [
       "['Categories_[PLUS]_Score_x with Review_Lengths(MW-test).txt',\n",
       " 'Categories_[PLUS]_Score_x with Review_Lengths(t-test).txt',\n",
       " 'Categories_[PLUS]_Score_x with Thumbs_up(MW-test).txt',\n",
       " 'Categories_[PLUS]_Score_x with Thumbs_up(t-test).txt',\n",
       " 'ContentRating_[PLUS]_Score_x with Review_Lengths(MW-test).txt',\n",
       " 'ContentRating_[PLUS]_Score_x with Review_Lengths(t-test).txt',\n",
       " 'ContentRating_[PLUS]_Score_x withThumbs_up(MW-test).txt',\n",
       " 'ContentRating_[PLUS]_Score_x withThumbs_up(t-test).txt',\n",
       " 'Content_Rating with Review_lengths(MW-test).txt',\n",
       " 'Content_Rating with Review_lengths(t-test).txt',\n",
       " 'Content_Rating with Score_x(MW-test).txt',\n",
       " 'Content_Rating with Score_x(t-test).txt',\n",
       " 'Content_Rating with Thumbs_up(MW-test).txt',\n",
       " 'Content_Rating with Thumbs_up(t-test).txt',\n",
       " 'NewCategory_2 with Review_lengths(MW-test).txt',\n",
       " 'NewCategory_2 with Review_lengths(t-test).txt',\n",
       " 'NewCategory_2 with Score_x(MW-test).txt',\n",
       " 'NewCategory_2 with Score_x(t-test).txt',\n",
       " 'NewCategory_2 with Thumbs_up(MW-test).txt',\n",
       " 'NewCategory_2 with Thumbs_up(t-test).txt',\n",
       " 'NewCategory_2_[PLUS]_ContentRating with Review_lengths(MW-test).txt',\n",
       " 'NewCategory_2_[PLUS]_ContentRating with Review_lengths(t-test).txt',\n",
       " 'NewCategory_2_[PLUS]_ContentRating with Score_x(MW-test).txt',\n",
       " 'NewCategory_2_[PLUS]_ContentRating with Score_x(t-test).txt',\n",
       " 'NewCategory_2_[PLUS]_ContentRating with Thumbs_up(MW-test).txt',\n",
       " 'NewCategory_2_[PLUS]_ContentRating with Thumbs_up(t-test).txt']"
      ]
     },
     "execution_count": 3,
     "metadata": {},
     "output_type": "execute_result"
    }
   ],
   "source": [
    "file_names = glob.glob('../*.txt')\n",
    "for i in range(len(file_names)):\n",
    "    file_names[i] = file_names[i].strip(\".\\\\\")\n",
    "    # print(name)\n",
    "file_names"
   ]
  },
  {
   "cell_type": "code",
   "execution_count": 6,
   "metadata": {},
   "outputs": [],
   "source": [
    "for j in range(len(file_names)):\n",
    "    with open(\"../\"+file_names[j]) as f:\n",
    "        content = f.readlines()\n",
    "        # you may also want to remove whitespace characters like `\\n` at the end of each line\n",
    "        content = [x.strip() for x in content]\n",
    "        # content\n",
    "        key = []\n",
    "        statistic = []\n",
    "        pval = []\n",
    "\n",
    "        for i in range(1, len(content)): #len(content) or  5\n",
    "            if \"pvalue\" in content[i]:\n",
    "                con_lst = re.split(\"=|\\,|\\(|\\)\", content[i])\n",
    "                # print(con_lst) # output: ['MannwhitneyuResult', 'statistic', '118029.0', ' pvalue', '3.918324421516787e-06', '']\n",
    "                temp = float(con_lst[4])\n",
    "                if temp <= 0.05:\n",
    "                    key.append(content[i-1])\n",
    "                    statistic.append(float(con_lst[2]))\n",
    "                    pval.append(float(con_lst[4]))\n",
    "        strng = \"P value less than or equal 0.05/\"+file_names[j][:-4]+\"_pval_less_than_0.05.txt\"\n",
    "        # print(strng) # output: Categories_[PLUS]_Score_x with Review_Lengths(MW-test)_pval_less_than_0.05.txt\n",
    "        with open(strng, \"w\") as f:\n",
    "            if len(key) == len(statistic) and len(key) == len(pval):\n",
    "                for i in range(len(key)):\n",
    "                    f.write(str(key[i])+ \":\\t statistic= \"+ str(statistic[i])+ \";\\t p_value= \"+ str(pval[i])+\";\\n\")"
   ]
  }
 ],
 "metadata": {
  "kernelspec": {
   "display_name": "Python 3",
   "language": "python",
   "name": "python3"
  },
  "language_info": {
   "codemirror_mode": {
    "name": "ipython",
    "version": 3
   },
   "file_extension": ".py",
   "mimetype": "text/x-python",
   "name": "python",
   "nbconvert_exporter": "python",
   "pygments_lexer": "ipython3",
   "version": "3.7.6"
  }
 },
 "nbformat": 4,
 "nbformat_minor": 2
}
